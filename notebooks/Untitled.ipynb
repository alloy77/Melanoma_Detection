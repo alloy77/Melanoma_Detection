{
 "cells": [
  {
   "cell_type": "code",
   "execution_count": 8,
   "id": "e70eed4e-b116-4560-b34b-086681bf613e",
   "metadata": {},
   "outputs": [
    {
     "name": "stdout",
     "output_type": "stream",
     "text": [
      "WARNING:tensorflow:Mixed precision compatibility check (mixed_float16): WARNING\n",
      "Your GPU may run slowly with dtype policy mixed_float16 because it does not have compute capability of at least 7.0. Your GPU:\n",
      "  NVIDIA GeForce GTX 1050 Ti, compute capability 6.1\n",
      "See https://developer.nvidia.com/cuda-gpus for a list of GPUs and their compute capabilities.\n",
      "If you will use compatible GPU(s) not attached to this host, e.g. by running a multi-worker model, you can ignore this warning. This message will only be logged once\n"
     ]
    }
   ],
   "source": [
    "import os \n",
    "import json\n",
    "\n",
    "BASE_DIR = r\"G:\\OneDrive\\ML-MinorProject\"\n",
    "MODEL_DIR = os.path.join(BASE_DIR, \"models\")\n",
    "MOBILENET_TRAINING_HISTORY = os.path.join(MODEL_DIR, \"mobilenet\", \"mobilenet_training_history.\")\n"
   ]
  },
  {
   "cell_type": "code",
   "execution_count": 10,
   "id": "83b8c034-244b-4add-a513-8a8c9be6f88d",
   "metadata": {},
   "outputs": [
    {
     "name": "stdout",
     "output_type": "stream",
     "text": [
      "Training history successfully saved to G:\\OneDrive\\ML-MinorProject\\models\\mobilenet\\mobilenet_training_history.json\n"
     ]
    }
   ],
   "source": [
    "import json\n",
    "\n",
    "# Reconstructed data based on your training logs\n",
    "history_dict = {\n",
    "    'loss': [\n",
    "        0.3715, 0.3068, 0.2742, 0.2603, 0.2414, 0.2148, 0.2075, 0.1942, 0.1912, 0.1712,\n",
    "        0.1278, 0.1141, 0.1064, 0.0925, 0.0890\n",
    "    ],\n",
    "    'accuracy': [\n",
    "        0.8353, 0.8607, 0.8781, 0.8836, 0.8979, 0.9075, 0.9118, 0.9192, 0.9216, 0.9295,\n",
    "        0.9484, 0.9524, 0.9566, 0.9650, 0.9656\n",
    "    ],\n",
    "    'val_loss': [\n",
    "        0.9097, 0.8429, 0.9769, 0.8998, 0.7918, 0.8829, 1.2941, 0.8250, 1.1082, 0.8362,\n",
    "        0.9836, 0.9457, 0.8901, 1.0414, 1.0626\n",
    "    ],\n",
    "    'val_accuracy': [\n",
    "        0.7395, 0.7717, 0.7690, 0.7836, 0.7768, 0.7762, 0.7300, 0.7819, 0.7649, 0.7989,\n",
    "        0.8037, 0.8064, 0.7965, 0.7897, 0.7993\n",
    "    ]\n",
    "}\n",
    "\n",
    "# Save to JSON\n",
    "save_path = r\"G:\\OneDrive\\ML-MinorProject\\models\\mobilenet\\mobilenet_training_history.json\"\n",
    "\n",
    "with open(save_path, 'w') as f:\n",
    "    json.dump(history_dict, f)\n",
    "\n",
    "print(f\"Training history successfully saved to {save_path}\")"
   ]
  },
  {
   "cell_type": "code",
   "execution_count": null,
   "id": "d90bc68c-c30a-4c52-80be-788f56b6ec83",
   "metadata": {},
   "outputs": [],
   "source": []
  }
 ],
 "metadata": {
  "kernelspec": {
   "display_name": "Python 3 (ipykernel)",
   "language": "python",
   "name": "python3"
  },
  "language_info": {
   "codemirror_mode": {
    "name": "ipython",
    "version": 3
   },
   "file_extension": ".py",
   "mimetype": "text/x-python",
   "name": "python",
   "nbconvert_exporter": "python",
   "pygments_lexer": "ipython3",
   "version": "3.10.16"
  }
 },
 "nbformat": 4,
 "nbformat_minor": 5
}
